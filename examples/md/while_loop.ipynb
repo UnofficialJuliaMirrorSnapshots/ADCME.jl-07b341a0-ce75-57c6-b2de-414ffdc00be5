{
 "cells": [
  {
   "cell_type": "markdown",
   "metadata": {},
   "source": [
    "# The Power of `while_loop` -- Application to Finite Element Analysis\n",
    "\n",
    "##Why are loops important and challenging?\n",
    "\n",
    "In science and engineering computing, we often encounter loops. For inverse modeling, it is usually desirable that we can compute the gradients of a forward simulation code even if there exists sophisticated loops. This is, however, not a trivial task in consideration of the large number of loops. For example, we have a piece of forward simulation codes"
   ]
  },
  {
   "cell_type": "code",
   "execution_count": null,
   "metadata": {
    "attributes": {
     "classes": [
      "julia"
     ],
     "id": ""
    }
   },
   "outputs": [],
   "source": [
    "for i = 1:1000000\n",
    "  global x\n",
    "\tx = do_some_simulation(x)\n",
    "end"
   ]
  },
  {
   "cell_type": "markdown",
   "metadata": {},
   "source": [
    "To be able to compute the gradients, we need to create 1000000 subgraphs for `do_some_simulation` under the hood to track the data flow. This will be very inefficient especially when graph optimization is conducted before execution. \n",
    "\n",
    "`TensorFlow` provides us a clever way to do loops, where only one graph is created for the whole loops. The basic idea is to create a `while_loop` graph based on five primitives, and the corresponding graph for backpropagation is constructed thereafter. \n",
    "\n",
    "## A simple example\n",
    "\n",
    "As a simple example, we consider assemble the external load vector for linear finite elements in 1D. Assume that the load distribution is $f(x)=1-x^2$, $x\\in[0,1]$. The goal is to compute a vector $\\mathbf{v}$ with $v_i=\\int_{0}^1 f(x)\\phi_i(x)dx$, where $\\phi_i(x)$ is the $i$-th linear element. \n",
    "\n",
    "The pseudocode for this problem is shown in the following"
   ]
  },
  {
   "cell_type": "code",
   "execution_count": null,
   "metadata": {
    "attributes": {
     "classes": [
      "pseudocode"
     ],
     "id": ""
    }
   },
   "outputs": [],
   "source": [
    "F = zeros(ne+1) // ne is the total number of elements\n",
    "for e = 1:ne\n",
    "\tx_mid = middle point of element e\n",
    "\th = length of element e\n",
    "\tf_mid = f(x_mid)\n",
    "\tF[global index of left end point of e] += f_mid*h/2\n",
    "\tF[global index of right end point of e] += f_mid*h/2\n",
    "end"
   ]
  },
  {
   "cell_type": "markdown",
   "metadata": {},
   "source": [
    "![](externalforce.png)\n",
    "\n",
    "However, if `ne` is very large, writing explicit loops is unwise since it will create `ne` subgraphs. `while_loop` can be very helpful in this case (the script can also be found in https://github.com/kailaix/ADCME.jl/tree/master/examples/while_loop/while_loop_simple.jl)"
   ]
  },
  {
   "cell_type": "code",
   "execution_count": null,
   "metadata": {
    "attributes": {
     "classes": [
      "julia"
     ],
     "id": ""
    }
   },
   "outputs": [],
   "source": [
    "using ADCME\n",
    "\n",
    "ne = 100\n",
    "h = 1/ne\n",
    "f = x->1-x^2\n",
    "function cond0(i, F_arr)\n",
    "    i<=ne+1\n",
    "end\n",
    "function body(i, F_arr)\n",
    "    fmid = f(cast(i-2, Float64)*h+h/2)\n",
    "    F = constant(zeros(ne+1))\n",
    "    F = scatter_add(F, [i-1;i], [fmid*h/2;fmid*h/2])\n",
    "    F_arr = write(F_arr, i, F)\n",
    "    i+1, F_arr\n",
    "end\n",
    "\n",
    "F_arr = TensorArray(ne+1)\n",
    "F_arr = write(F_arr, 1, constant(zeros(ne+1))) # inform `F_arr` of the data type by writing at index 1\n",
    "i = constant(2, dtype=Int32)\n",
    "_, out = while_loop(cond0, body, [i,F_arr]; parallel_iterations=10)\n",
    "F = sum(stack(out), dims=1)\n",
    "sess = Session(); init(sess)\n",
    "F0 = run(sess, F)\n"
   ]
  },
  {
   "cell_type": "markdown",
   "metadata": {},
   "source": [
    "## A practical application\n",
    "\n",
    "In this section, we demonstrate how to assemble a finite element matrix based on `while_loop` for a 2D Poisson problem. We consider the following problem\n",
    "$$\n",
    "\\begin{aligned}\n",
    "\\nabla \\cdot ( D\\nabla u(\\mathbf{x}) ) &= f(\\mathbf{x})& \\mathbf{x}\\in \\Omega\\\\\n",
    "u(\\mathbf{x}) &= 0 & \\mathbf{x}\\in \\partial \\Omega\n",
    "\\end{aligned}\n",
    "$$\n",
    "Here $\\Omega$ is the unit disk. We consider a simple case, where\n",
    "$$\n",
    "\\begin{aligned}\n",
    "D&=\\mathbf{I}\\\\\n",
    "f(\\mathbf{x})&=-4\n",
    "\\end{aligned}\n",
    "$$\n",
    "Then the exact solution will be \n",
    "$$\n",
    "u(\\mathbf{x}) = 1-x^2-y^2\n",
    "$$\n",
    "The weak formulation is\n",
    "$$\n",
    "\\langle \\nabla v(\\mathbf{x}), D\\nabla u(\\mathbf{x}) \\rangle = \\langle f(\\mathbf{x}),v(\\mathbf{x}) \\rangle\n",
    "$$\n",
    "We  split $\\Omega$ into triangles $\\mathcal{T}$ and use piecewise linear basis functions. Typically, we would iterate over all elements and compute the local stiffness matrix for each element. However, this could result in a large loop if we use a fine mesh. Instead, we can use `while_loop` to complete the task. In `ADCME`, the syntax for `while_loop` is"
   ]
  },
  {
   "cell_type": "code",
   "execution_count": null,
   "metadata": {
    "attributes": {
     "classes": [
      "julia"
     ],
     "id": ""
    }
   },
   "outputs": [],
   "source": [
    "while_loop(condition, body, loop_vars)"
   ]
  },
  {
   "cell_type": "markdown",
   "metadata": {},
   "source": [
    "here `condition` and `body` take `loop_vars` as inputs. The former outputs a bool tensor indicating whether to terminate the loop while the latter outputs the updated `loop_vars`. `TensorArry` is used to store variables that change during the loops. The codes for assembling FEM is"
   ]
  },
  {
   "cell_type": "code",
   "execution_count": null,
   "metadata": {
    "attributes": {
     "classes": [
      "julia"
     ],
     "id": ""
    }
   },
   "outputs": [],
   "source": [
    "function assemble_FEM(Ds, Fs, nodes, elem)\n",
    "    NT = size(elem,1)\n",
    "    cond0 = (i,tai,taj,tav, tak, taf) -> i<=NT\n",
    "    elem = constant(elem)\n",
    "    nodes = constant(nodes)\n",
    "    function body(i, tai, taj, tav, tak, taf)\n",
    "        el = elem[i]\n",
    "        x1, y1 = nodes[el[1]][1], nodes[el[1]][2]\n",
    "        x2, y2 = nodes[el[2]][1], nodes[el[2]][2]\n",
    "        x3, y3 = nodes[el[3]][1], nodes[el[3]][2]\n",
    "        T = abs(0.5*x1*y2 - 0.5*x1*y3 - 0.5*x2*y1 + 0.5*x2*y3 + 0.5*x3*y1 - 0.5*x3*y2)\n",
    "        D = Ds[i]; F = Fs[i]*T/3\n",
    "        v = T*stack([D*((-x2 + x3)^2/(x1*y2 - x1*y3 - x2*y1 + x2*y3 + x3*y1 - x3*y2)^2 + (y2 - y3)^2/(x1*y2 - x1*y3 - x2*y1 + x2*y3 + x3*y1 - x3*y2)^2),D*((x1 - x3)*(-x2 + x3)/(x1*y2 - x1*y3 - x2*y1 + x2*y3 + x3*y1 - x3*y2)^2 + (-y1 + y3)*(y2 - y3)/(x1*y2 - x1*y3 - x2*y1 + x2*y3 + x3*y1 - x3*y2)^2),D*((-x1 + x2)*(-x2 + x3)/(x1*y2 - x1*y3 - x2*y1 + x2*y3 + x3*y1 - x3*y2)^2 + (y1 - y2)*(y2 - y3)/(x1*y2 - x1*y3 - x2*y1 + x2*y3 + x3*y1 - x3*y2)^2),D*((x1 - x3)*(-x2 + x3)/(x1*y2 - x1*y3 - x2*y1 + x2*y3 + x3*y1 - x3*y2)^2 + (-y1 + y3)*(y2 - y3)/(x1*y2 - x1*y3 - x2*y1 + x2*y3 + x3*y1 - x3*y2)^2),D*((x1 - x3)^2/(x1*y2 - x1*y3 - x2*y1 + x2*y3 + x3*y1 - x3*y2)^2 + (-y1 + y3)^2/(x1*y2 - x1*y3 - x2*y1 + x2*y3 + x3*y1 - x3*y2)^2),D*((-x1 + x2)*(x1 - x3)/(x1*y2 - x1*y3 - x2*y1 + x2*y3 + x3*y1 - x3*y2)^2 + (-y1 + y3)*(y1 - y2)/(x1*y2 - x1*y3 - x2*y1 + x2*y3 + x3*y1 - x3*y2)^2),D*((-x1 + x2)*(-x2 + x3)/(x1*y2 - x1*y3 - x2*y1 + x2*y3 + x3*y1 - x3*y2)^2 + (y1 - y2)*(y2 - y3)/(x1*y2 - x1*y3 - x2*y1 + x2*y3 + x3*y1 - x3*y2)^2),D*((-x1 + x2)*(x1 - x3)/(x1*y2 - x1*y3 - x2*y1 + x2*y3 + x3*y1 - x3*y2)^2 + (-y1 + y3)*(y1 - y2)/(x1*y2 - x1*y3 - x2*y1 + x2*y3 + x3*y1 - x3*y2)^2),D*((-x1 + x2)^2/(x1*y2 - x1*y3 - x2*y1 + x2*y3 + x3*y1 - x3*y2)^2 + (y1 - y2)^2/(x1*y2 - x1*y3 - x2*y1 + x2*y3 + x3*y1 - x3*y2)^2)])\n",
    "        tav = write(tav, i, v)\n",
    "        ii = vec([elem[i] elem[i] elem[i]]')\n",
    "        jj = [elem[i]; elem[i]; elem[i]]\n",
    "        tai = write(tai, i, ii)\n",
    "        taj = write(taj, i, jj)\n",
    "        tak = write(tak, i, elem[i])\n",
    "        taf = write(taf, i, stack([F,F,F]))\n",
    "        return i+1, tai, taj, tav, tak, taf\n",
    "    end\n",
    "    tai = TensorArray(NT, dtype=Int32)\n",
    "    taj = TensorArray(NT, dtype=Int32)\n",
    "    tak = TensorArray(NT, dtype=Int32)\n",
    "    tav = TensorArray(NT)\n",
    "    taf = TensorArray(NT)\n",
    "    i = constant(1, dtype=Int32)\n",
    "    i, tai, taj, tav, tak, taf = body(i, tai, taj, tav, tak, taf)\n",
    "    _, tai, taj, tav, tak, taf = while_loop(cond0, body, [i, tai, taj, tav, tak, taf]; parallel_iterations=10)\n",
    "    vec(stack(tai)[1:NT]'), vec(stack(taj)[1:NT]'), vec(stack(tav)[1:NT]'),\n",
    "                        vec(stack(tak)[1:NT]'), vec(stack(taf)[1:NT]')\n",
    "end"
   ]
  },
  {
   "cell_type": "markdown",
   "metadata": {},
   "source": [
    "## Code detail explained\n",
    "\n",
    "We now explain the codes. \n",
    "\n",
    "We assume that `nodes` is a $n_v\\times 2$ tensor holding all $n_v$ coordinates of the nodes, `elem` is a $n_e\\times 3$  tensor holding all $n_e$ triangle vertex index triples. We create five `TensorArray` to hold the row indices, column indices and values for the stiffness matrix, and row indices and values for the right hand side (Here `NT` denotes $n_e$):"
   ]
  },
  {
   "cell_type": "code",
   "execution_count": null,
   "metadata": {},
   "outputs": [],
   "source": [
    "tai = TensorArray(NT, dtype=Int32)\n",
    "taj = TensorArray(NT, dtype=Int32)\n",
    "tak = TensorArray(NT, dtype=Int32)\n",
    "tav = TensorArray(NT)\n",
    "taf = TensorArray(NT)"
   ]
  },
  {
   "cell_type": "markdown",
   "metadata": {},
   "source": [
    "Within each loop (`body`), we extract the coordinates of each vertex coordinate"
   ]
  },
  {
   "cell_type": "code",
   "execution_count": null,
   "metadata": {
    "attributes": {
     "classes": [
      "julia"
     ],
     "id": ""
    }
   },
   "outputs": [],
   "source": [
    "el = elem[i]\n",
    "x1, y1 = nodes[el[1]][1], nodes[el[1]][2]\n",
    "x2, y2 = nodes[el[2]][1], nodes[el[2]][2]\n",
    "x3, y3 = nodes[el[3]][1], nodes[el[3]][2]"
   ]
  },
  {
   "cell_type": "markdown",
   "metadata": {},
   "source": [
    "and compute the area of `i`th triangle"
   ]
  },
  {
   "cell_type": "code",
   "execution_count": null,
   "metadata": {},
   "outputs": [],
   "source": [
    "T = abs(0.5*x1*y2 - 0.5*x1*y3 - 0.5*x2*y1 + 0.5*x2*y3 + 0.5*x3*y1 - 0.5*x3*y2)"
   ]
  },
  {
   "cell_type": "markdown",
   "metadata": {},
   "source": [
    "The local stiffness matrix is computed and vectorized (`v`). It is computed symbolically.  To store the computed value into `TensorArray`, we call the `write` API (there is also `read` API, which reads a value from `TensorArray`)"
   ]
  },
  {
   "cell_type": "code",
   "execution_count": null,
   "metadata": {
    "attributes": {
     "classes": [
      "julia"
     ],
     "id": ""
    }
   },
   "outputs": [],
   "source": [
    "tav = write(tav, i, v)"
   ]
  },
  {
   "cell_type": "markdown",
   "metadata": {},
   "source": [
    "Note we have called"
   ]
  },
  {
   "cell_type": "code",
   "execution_count": null,
   "metadata": {
    "attributes": {
     "classes": [
      "julia"
     ],
     "id": ""
    }
   },
   "outputs": [],
   "source": [
    "i, tai, taj, tav, tak, taf = body(i, tai, taj, tav, tak, taf)"
   ]
  },
  {
   "cell_type": "markdown",
   "metadata": {},
   "source": [
    "before we call `while_loop`. This is because we need to initialize the `TensorArray`s (i.e., telling them the size and type of elements in the arrays). We must guarantee that the sizes and types of the elements in the arrays are consistent in `while_loop`. \n",
    "\n",
    "Finally, we stack the `TensorArray` into a tensor and vectorized it according to the row major. This serves as the output of `assemble_FEM`. The complete script for solving this problem is [here](https://github.com/kailaix/ADCME.jl/tree/master/examples/while_loop/while_loop.jl) and the following plot shows the numerical result and corresponding reference solution. \n",
    "\n",
    "![Result for the Poisson Problem](while_loop.png)\n",
    "\n",
    "## Gradients that backpropagate through loops\n",
    "\n",
    "To inspect the gradients through the loops, we can run"
   ]
  },
  {
   "cell_type": "code",
   "execution_count": null,
   "metadata": {
    "attributes": {
     "classes": [
      "julia"
     ],
     "id": ""
    }
   },
   "outputs": [],
   "source": [
    "println(run(sess, gradients(sum(u), Ds))) # a sparse tensor"
   ]
  },
  {
   "cell_type": "markdown",
   "metadata": {},
   "source": [
    "This outputs a sparse tensor instead of a full tensor. To obtain the full tensor, we could call `tf.convert_to_tensor`"
   ]
  },
  {
   "cell_type": "code",
   "execution_count": null,
   "metadata": {
    "attributes": {
     "classes": [
      "julia"
     ],
     "id": ""
    }
   },
   "outputs": [],
   "source": [
    "println(run(sess, tf.convert_to_tensor(gradients(sum(u), Ds)))) # full tensor"
   ]
  }
 ],
 "metadata": {
  "kernelspec": {
   "display_name": "Python 3",
   "language": "python",
   "name": "python3"
  },
  "language_info": {
   "codemirror_mode": {
    "name": "ipython",
    "version": 3
   },
   "file_extension": ".py",
   "mimetype": "text/x-python",
   "name": "python",
   "nbconvert_exporter": "python",
   "pygments_lexer": "ipython3",
   "version": "3.7.1"
  }
 },
 "nbformat": 4,
 "nbformat_minor": 2
}
